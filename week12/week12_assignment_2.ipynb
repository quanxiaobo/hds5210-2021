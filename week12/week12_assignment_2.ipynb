{
 "cells": [
  {
   "cell_type": "markdown",
   "metadata": {
    "nbgrader": {
     "grade": false,
     "grade_id": "cell-fc1c39d0d6f8b82a",
     "locked": true,
     "schema_version": 1,
     "solution": false
    }
   },
   "source": [
    "# Week 12 Programming Assignment\n",
    "\n",
    "As you're working on identifying data for your final project, it's helpful to spend some time exploring your various data files.  For this week's assignment, I'd like you to take a few of the ideas from the the lectures, review assignment, and tonight's lecture to start exploring the data you plan to use for the final project.\n",
    "\n",
    "For the following activities, you can use just one of the data files that you've identified, or you can do the activities using different data files.  That's up to you.  Please describe what you're doing in a Markdown cell or in the comments of your code.  When you've completed the assignment, submit it as normal."
   ]
  },
  {
   "cell_type": "markdown",
   "metadata": {},
   "source": [
    "### 1. Basic Statistics\n",
    "\n",
    "Use Python to read in your data file and show many rows and columns your data has."
   ]
  },
  {
   "cell_type": "code",
   "execution_count": 1,
   "metadata": {},
   "outputs": [
    {
     "name": "stderr",
     "output_type": "stream",
     "text": [
      "/opt/tljh/user/lib/python3.6/site-packages/IPython/core/interactiveshell.py:3051: DtypeWarning: Columns (12,14,17,19) have mixed types.Specify dtype option on import or set low_memory=False.\n",
      "  interactivity=interactivity, compiler=compiler, result=result)\n"
     ]
    },
    {
     "name": "stdout",
     "output_type": "stream",
     "text": [
      "4882 rows, 20 columns\n"
     ]
    }
   ],
   "source": [
    "import pandas as pd\n",
    "hcahps = pd.read_csv('HCAHPS-Hospital.csv', na_values='Not Available')\n",
    "\n",
    "# Exclude measures other than HCAHPS linear mean scores,\n",
    "# which reflect CMS adjustments for the effects of patient mix and survey mode\n",
    "hcahps_scores = hcahps[hcahps['HCAHPS Answer Description'].str[-17:]=='linear mean score']\n",
    "\n",
    "# Long to wide transformation\n",
    "index_list= ['Facility ID', 'Facility Name', 'Address', 'City','State','ZIP Code', 'Number of Completed Surveys', 'Survey Response Rate Percent', 'Start Date', 'End Date']\n",
    "hcahps_scores_wide = hcahps_scores.pivot(index=index_list, columns='HCAHPS Question', values='HCAHPS Linear Mean Value')\n",
    "hcahps_scores_all = hcahps_scores_wide.reset_index()\n",
    "\n",
    "# Tranfer columns with scores to numeric\n",
    "column_list = hcahps_scores_all.columns\n",
    "for col in column_list:\n",
    "    if col[-5:] == 'score':\n",
    "        hcahps_scores_all[col] = pd.to_numeric(hcahps_scores_all[col])\n",
    "\n",
    "# show # of rows and columns\n",
    "print('{} rows, {} columns'.format(hcahps_scores_all.shape[0], hcahps_scores_all.shape[1]))"
   ]
  },
  {
   "cell_type": "markdown",
   "metadata": {},
   "source": [
    "### 2. Data Diversity\n",
    "\n",
    "Use Python to identify how many unique values each column in your data has.  Use Python to identify which column has the greatest number of distinct values (aka the most diversity)?"
   ]
  },
  {
   "cell_type": "code",
   "execution_count": 2,
   "metadata": {},
   "outputs": [
    {
     "name": "stdout",
     "output_type": "stream",
     "text": [
      "The column with most disversity: Facility ID\n"
     ]
    },
    {
     "data": {
      "text/plain": [
       "{'Facility ID': 4882,\n",
       " 'Facility Name': 4727,\n",
       " 'Address': 4855,\n",
       " 'City': 2958,\n",
       " 'State': 56,\n",
       " 'ZIP Code': 4455,\n",
       " 'Number of Completed Surveys': 1547,\n",
       " 'Survey Response Rate Percent': 70,\n",
       " 'Start Date': 1,\n",
       " 'End Date': 1,\n",
       " 'Care transition - linear mean score': 27,\n",
       " 'Cleanliness - linear mean score': 29,\n",
       " 'Communication about medicines - linear mean score': 37,\n",
       " 'Discharge information - linear mean score': 34,\n",
       " 'Doctor communication - linear mean score': 23,\n",
       " 'Nurse communication - linear mean score': 23,\n",
       " 'Overall hospital rating - linear mean score': 27,\n",
       " 'Quietness - linear mean score': 37,\n",
       " 'Recommend hospital - linear mean score': 35,\n",
       " 'Staff responsiveness - linear mean score': 33}"
      ]
     },
     "execution_count": 2,
     "metadata": {},
     "output_type": "execute_result"
    }
   ],
   "source": [
    "# count unique values in each column\n",
    "unique_values = {}\n",
    "for col in column_list:\n",
    "    count = len(hcahps_scores_all[col].unique())\n",
    "    unique_values[col] = count\n",
    "    \n",
    "print('The column with most disversity: {}'.format(max(unique_values, key=lambda key: unique_values[key])))\n",
    "unique_values"
   ]
  },
  {
   "cell_type": "markdown",
   "metadata": {},
   "source": [
    "### 3. Data Redundancy\n",
    "\n",
    "Use Python to identify any columns in your data where the value for every row is the same.  For example, if you had a gender column and all the rows said 'M', then you would want to write the code that helped you determine that."
   ]
  },
  {
   "cell_type": "code",
   "execution_count": 3,
   "metadata": {},
   "outputs": [
    {
     "name": "stdout",
     "output_type": "stream",
     "text": [
      "The column 'Start Date' has same value for all rows\n",
      "The column 'End Date' has same value for all rows\n"
     ]
    }
   ],
   "source": [
    "# Identify the column with one unique value\n",
    "for col in column_list:\n",
    "    if unique_values[col] == 1:\n",
    "        print(\"The column '{}' has same value for all rows\".format(col))"
   ]
  },
  {
   "cell_type": "markdown",
   "metadata": {},
   "source": [
    "### 4. Range of Values\n",
    "\n",
    "Your data almost certainly has some numeric columns that can be summed or averaged.  Create a histogram that shows the distribution of values for this column."
   ]
  },
  {
   "cell_type": "code",
   "execution_count": 4,
   "metadata": {},
   "outputs": [
    {
     "data": {
      "text/plain": [
       "count    3458.000000\n",
       "mean       88.537883\n",
       "std         3.344614\n",
       "min        67.000000\n",
       "25%        87.000000\n",
       "50%        89.000000\n",
       "75%        91.000000\n",
       "max        98.000000\n",
       "Name: Overall hospital rating - linear mean score, dtype: float64"
      ]
     },
     "execution_count": 4,
     "metadata": {},
     "output_type": "execute_result"
    },
    {
     "data": {
      "image/png": "[encoded data removed]",
      "text/plain": [
       "<Figure size 432x288 with 1 Axes>"
      ]
     },
     "metadata": {
      "needs_background": "light"
     },
     "output_type": "display_data"
    }
   ],
   "source": [
    "import matplotlib.pyplot as plt\n",
    "hcahps_scores_all['Overall hospital rating - linear mean score'].hist(bins=30, density=True, alpha=0.7)\n",
    "hcahps_scores_all['Overall hospital rating - linear mean score'].describe()"
   ]
  },
  {
   "cell_type": "markdown",
   "metadata": {},
   "source": [
    "### 5. Discussion\n",
    "\n",
    "Do any additional exploration of this data that you think may be interesting and include your code here.  Then go onto Slack and make a post about what you've observed.  Share your observation.  Share your code, if you like.  Share a screenshot of the data or a chart based on the data.\n",
    "\n",
    "Then comment on at least two other people's observations that they share on Slack.  (Use the reply as thread option in Slack to keep the conversation organized.)"
   ]
  },
  {
   "cell_type": "code",
   "execution_count": 5,
   "metadata": {},
   "outputs": [
    {
     "data": {
      "text/html": [
       "<div>\n",
       "<style scoped>\n",
       "    .dataframe tbody tr th:only-of-type {\n",
       "        vertical-align: middle;\n",
       "    }\n",
       "\n",
       "    .dataframe tbody tr th {\n",
       "        vertical-align: top;\n",
       "    }\n",
       "\n",
       "    .dataframe thead th {\n",
       "        text-align: right;\n",
       "    }\n",
       "</style>\n",
       "<table border=\"1\" class=\"dataframe\">\n",
       "  <thead>\n",
       "    <tr style=\"text-align: right;\">\n",
       "      <th></th>\n",
       "      <th>count</th>\n",
       "      <th>mean</th>\n",
       "      <th>std</th>\n",
       "      <th>min</th>\n",
       "      <th>25%</th>\n",
       "      <th>50%</th>\n",
       "      <th>75%</th>\n",
       "      <th>max</th>\n",
       "    </tr>\n",
       "    <tr>\n",
       "      <th>State</th>\n",
       "      <th></th>\n",
       "      <th></th>\n",
       "      <th></th>\n",
       "      <th></th>\n",
       "      <th></th>\n",
       "      <th></th>\n",
       "      <th></th>\n",
       "      <th></th>\n",
       "    </tr>\n",
       "  </thead>\n",
       "  <tbody>\n",
       "    <tr>\n",
       "      <th>CA</th>\n",
       "      <td>299.0</td>\n",
       "      <td>87.792642</td>\n",
       "      <td>3.548865</td>\n",
       "      <td>76.0</td>\n",
       "      <td>86.0</td>\n",
       "      <td>88.0</td>\n",
       "      <td>90.0</td>\n",
       "      <td>98.0</td>\n",
       "    </tr>\n",
       "    <tr>\n",
       "      <th>NY</th>\n",
       "      <td>147.0</td>\n",
       "      <td>85.700680</td>\n",
       "      <td>3.700083</td>\n",
       "      <td>77.0</td>\n",
       "      <td>83.5</td>\n",
       "      <td>86.0</td>\n",
       "      <td>88.0</td>\n",
       "      <td>95.0</td>\n",
       "    </tr>\n",
       "    <tr>\n",
       "      <th>TX</th>\n",
       "      <td>254.0</td>\n",
       "      <td>89.192913</td>\n",
       "      <td>3.206680</td>\n",
       "      <td>78.0</td>\n",
       "      <td>87.0</td>\n",
       "      <td>89.0</td>\n",
       "      <td>91.0</td>\n",
       "      <td>96.0</td>\n",
       "    </tr>\n",
       "    <tr>\n",
       "      <th>WI</th>\n",
       "      <td>101.0</td>\n",
       "      <td>90.584158</td>\n",
       "      <td>2.307671</td>\n",
       "      <td>86.0</td>\n",
       "      <td>89.0</td>\n",
       "      <td>91.0</td>\n",
       "      <td>92.0</td>\n",
       "      <td>97.0</td>\n",
       "    </tr>\n",
       "  </tbody>\n",
       "</table>\n",
       "</div>"
      ],
      "text/plain": [
       "       count       mean       std   min   25%   50%   75%   max\n",
       "State                                                          \n",
       "CA     299.0  87.792642  3.548865  76.0  86.0  88.0  90.0  98.0\n",
       "NY     147.0  85.700680  3.700083  77.0  83.5  86.0  88.0  95.0\n",
       "TX     254.0  89.192913  3.206680  78.0  87.0  89.0  91.0  96.0\n",
       "WI     101.0  90.584158  2.307671  86.0  89.0  91.0  92.0  97.0"
      ]
     },
     "execution_count": 5,
     "metadata": {},
     "output_type": "execute_result"
    },
    {
     "data": {
      "image/png": "[encoded data removed]",
      "text/plain": [
       "<Figure size 720x504 with 1 Axes>"
      ]
     },
     "metadata": {
      "needs_background": "light"
     },
     "output_type": "display_data"
    }
   ],
   "source": [
    "hcahps_scores_4states = hcahps_scores_all.loc[hcahps_scores_all['State'].isin(['CA', 'NY', 'TX', 'WI'])]\n",
    "hcahps_scores_4states.groupby(['State'])['Overall hospital rating - linear mean score'].plot.kde(\n",
    "    xlim=(65,100),\n",
    "    legend=True,\n",
    "    figsize=(10,7)\n",
    ")\n",
    "plt.xlabel(\"Overall hospital rating - linear mean score\")\n",
    "plt.savefig('hcahps_scores_4states.png')\n",
    "hcahps_scores_4states.groupby(['State'])['Overall hospital rating - linear mean score'].describe()"
   ]
  },
  {
   "cell_type": "markdown",
   "metadata": {},
   "source": [
    "#### Observation:\n",
    "Hospital overall satisfaction score varied significantly between the four states. Hospitals in WI were rated highest, followed by TX, CA, and NY. Among the four states, higher average ratings were associated with less variation."
   ]
  },
  {
   "cell_type": "markdown",
   "metadata": {},
   "source": [
    "---\n",
    "\n",
    "## Submitting Your Work\n",
    "\n",
    "In order to submit your work, you'll need to use the `git` command line program to **add** your homework file (this file) to your local repository, **commit** your changes to your local repository, and then **push** those changes up to github.com.  From there, I'll be able to **pull** the changes down and do my grading.  I'll provide some feedback, **commit** and **push** my comments back to you.  The first line of code below will **pull** down my comments into your local folders.\n",
    "\n",
    "To run through everything one last time and submit your work:\n",
    "1. Use the `Kernel` -> `Restart Kernel and Run All Cells` menu option to run everything from top to bottom and stop here.\n",
    "2. Save this note with Ctrl-S (or Cmd-S)\n",
    "2. Skip down to the last command cell (the one starting with `%%bash`) and run that cell.\n",
    "\n",
    "If anything fails along the way with this submission part of the process, let me know.  I'll help you troubleshoort."
   ]
  },
  {
   "cell_type": "code",
   "execution_count": 6,
   "metadata": {},
   "outputs": [
    {
     "ename": "AssertionError",
     "evalue": "DO NOT REMOVE THIS LINE",
     "output_type": "error",
     "traceback": [
      "\u001b[0;31m---------------------------------------------------------------------------\u001b[0m",
      "\u001b[0;31mAssertionError\u001b[0m                            Traceback (most recent call last)",
      "\u001b[0;32m<ipython-input-6-cef8011cb395>\u001b[0m in \u001b[0;36m<module>\u001b[0;34m\u001b[0m\n\u001b[0;32m----> 1\u001b[0;31m \u001b[0;32massert\u001b[0m \u001b[0;32mFalse\u001b[0m\u001b[0;34m,\u001b[0m \u001b[0;34m\"DO NOT REMOVE THIS LINE\"\u001b[0m\u001b[0;34m\u001b[0m\u001b[0;34m\u001b[0m\u001b[0m\n\u001b[0m",
      "\u001b[0;31mAssertionError\u001b[0m: DO NOT REMOVE THIS LINE"
     ]
    }
   ],
   "source": [
    "assert False, \"DO NOT REMOVE THIS LINE\""
   ]
  },
  {
   "cell_type": "markdown",
   "metadata": {},
   "source": [
    "---"
   ]
  },
  {
   "cell_type": "code",
   "execution_count": null,
   "metadata": {},
   "outputs": [],
   "source": [
    "%%bash\n",
    "git pull\n",
    "git add week12_assignment_2.ipynb\n",
    "git commit -a -m \"Submitting the week 12 assignment\"\n",
    "git push"
   ]
  },
  {
   "cell_type": "markdown",
   "metadata": {},
   "source": [
    "\n",
    "---\n",
    "\n",
    "If the message above says something like _Submitting the week 10 review exercises_ or _Everything is up to date_, then your work was submitted correctly."
   ]
  }
 ],
 "metadata": {
  "celltoolbar": "Create Assignment",
  "kernelspec": {
   "display_name": "Python 3",
   "language": "python",
   "name": "python3"
  },
  "language_info": {
   "codemirror_mode": {
    "name": "ipython",
    "version": 3
   },
   "file_extension": ".py",
   "mimetype": "text/x-python",
   "name": "python",
   "nbconvert_exporter": "python",
   "pygments_lexer": "ipython3",
   "version": "3.6.7"
  }
 },
 "nbformat": 4,
 "nbformat_minor": 2
}
